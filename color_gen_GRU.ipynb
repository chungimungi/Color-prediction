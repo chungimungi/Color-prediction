{
  "cells": [
    {
      "cell_type": "markdown",
      "metadata": {
        "id": "view-in-github",
        "colab_type": "text"
      },
      "source": [
        "<a href=\"https://colab.research.google.com/github/chungimungi/Color-prediction/blob/main/color_gen_GRU.ipynb\" target=\"_parent\"><img src=\"https://colab.research.google.com/assets/colab-badge.svg\" alt=\"Open In Colab\"/></a>"
      ]
    },
    {
      "cell_type": "code",
      "execution_count": null,
      "metadata": {
        "id": "rFF85jXQDFkr"
      },
      "outputs": [],
      "source": [
        "!pip install tensorflow keras numpy\n",
        "!pip install matplotlib"
      ]
    },
    {
      "cell_type": "code",
      "execution_count": null,
      "metadata": {
        "id": "g0hLiq-dNN8a"
      },
      "outputs": [],
      "source": [
        "import tensorflow as tf\n",
        "from tensorflow.keras.models import Sequential\n",
        "from tensorflow.keras.layers import Dense, Dropout, Bidirectional, SimpleRNN, GRU\n",
        "from tensorflow.keras.preprocessing.text import Tokenizer\n",
        "from tensorflow.keras.preprocessing import sequence\n",
        "import numpy as np\n",
        "import pandas as pd\n",
        "from keras.utils import np_utils\n",
        "import matplotlib.pyplot as plt\n",
        "\n",
        "np.random.seed(10)\n",
        "data = pd.read_csv('colors.csv')\n",
        "names = data[\"name\"]\n",
        "\n",
        "maxlen = 25\n",
        "t = Tokenizer(char_level=True)\n",
        "t.fit_on_texts(names)\n",
        "tokenized = t.texts_to_sequences(names)\n",
        "padded_names = sequence.pad_sequences(tokenized, maxlen=maxlen)\n",
        "\n",
        "def scale(n):\n",
        "    return int(n * 255)\n",
        "\n",
        "normalized_values = np.column_stack([data[\"red\"], data[\"green\"], data[\"blue\"]])\n",
        "normalized_values = normalized_values / 255.0\n",
        "\n",
        "model = Sequential()\n",
        "model.add(Bidirectional(GRU(64, activation='tanh'), input_shape=(maxlen, 3)))  # Use RGB values directly\n",
        "model.add(Dense(128, activation='tanh'))\n",
        "model.add(Dense(3, activation='sigmoid'))\n",
        "model.compile(optimizer='adam', loss='mse', metrics=['acc'])\n",
        "\n",
        "history = model.fit(np.repeat(padded_names[:, :, np.newaxis], 3, axis=-1), normalized_values, epochs=100, batch_size=64, validation_split=0.25)\n",
        "\n",
        "def plot_rgb(rgb):\n",
        "    data = [[rgb]]\n",
        "    plt.figure(figsize=(2, 2))\n",
        "    plt.imshow(data, interpolation='nearest')\n",
        "    plt.show()\n",
        "\n",
        "def predict(name):\n",
        "    name = name.lower()\n",
        "    tokenized = t.texts_to_sequences([name])\n",
        "    padded = sequence.pad_sequences(tokenized, maxlen=maxlen)\n",
        "    pred = model.predict(np.repeat(padded[:, :, np.newaxis], 3, axis=-1))[0]\n",
        "    r, g, b = scale(pred[0]), scale(pred[1]), scale(pred[2])\n",
        "    print(name + ',', 'R,G,B:', r, g, b)\n",
        "    plot_rgb(pred)"
      ]
    },
    {
      "cell_type": "code",
      "source": [
        "train_acc = history.history['acc']\n",
        "val_acc = history.history['val_acc']\n",
        "\n",
        "plt.plot(train_acc, label='Training Accuracy')\n",
        "plt.plot(val_acc, label='Validation Accuracy')\n",
        "plt.title('Training and Validation Accuracy')\n",
        "plt.xlabel('Epochs')\n",
        "plt.ylabel('Accuracy')\n",
        "plt.legend()\n",
        "plt.show()"
      ],
      "metadata": {
        "id": "Ycu2e-12Xp3W"
      },
      "execution_count": null,
      "outputs": []
    },
    {
      "cell_type": "code",
      "execution_count": 7,
      "metadata": {
        "id": "SZ_tC2SXPRhR",
        "colab": {
          "base_uri": "https://localhost:8080/",
          "height": 266
        },
        "outputId": "ec178c38-250e-41c9-d5f5-5a104da21a17"
      },
      "outputs": [
        {
          "output_type": "stream",
          "name": "stdout",
          "text": [
            "navy blue\n",
            "1/1 [==============================] - 0s 34ms/step\n",
            "navy blue, R,G,B: 15 33 114\n"
          ]
        },
        {
          "output_type": "display_data",
          "data": {
            "text/plain": [
              "<Figure size 200x200 with 1 Axes>"
            ],
            "image/png": "[encoded data removed]"
          },
          "metadata": {}
        }
      ],
      "source": [
        "n = input()\n",
        "predict(n)"
      ]
    }
  ],
  "metadata": {
    "accelerator": "GPU",
    "colab": {
      "provenance": [],
      "authorship_tag": "ABX9TyOc0XNUpuPyQiRCIev1/71x",
      "include_colab_link": true
    },
    "kernelspec": {
      "display_name": "Python 3",
      "name": "python3"
    },
    "language_info": {
      "name": "python"
    }
  },
  "nbformat": 4,
  "nbformat_minor": 0
}