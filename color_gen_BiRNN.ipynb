{
  "nbformat": 4,
  "nbformat_minor": 0,
  "metadata": {
    "colab": {
      "provenance": []
    },
    "kernelspec": {
      "name": "python3",
      "display_name": "Python 3"
    },
    "language_info": {
      "name": "python"
    }
  },
  "cells": [
    {
      "cell_type": "code",
      "source": [
        "!pip install tensorflow keras"
      ],
      "metadata": {
        "id": "jI5-wFjqYRCw"
      },
      "execution_count": null,
      "outputs": []
    },
    {
      "cell_type": "code",
      "execution_count": null,
      "metadata": {
        "id": "_e3UQeXSXmuj"
      },
      "outputs": [],
      "source": [
        "import tensorflow as tf\n",
        "from tensorflow.keras.models import Sequential\n",
        "from tensorflow.keras.layers import Dense, Dropout, Flatten, Conv1D, MaxPooling1D, Bidirectional, SimpleRNN\n",
        "from tensorflow.keras.preprocessing.text import Tokenizer\n",
        "from tensorflow.keras.preprocessing import sequence\n",
        "import numpy as np\n",
        "import pandas as pd\n",
        "from keras.utils import np_utils\n",
        "import matplotlib.pyplot as plt\n",
        "\n",
        "np.random.seed(10)\n",
        "data = pd.read_csv('colors.csv')\n",
        "names = data[\"name\"]\n",
        "\n",
        "maxlen = 25\n",
        "t = Tokenizer(char_level=True)\n",
        "t.fit_on_texts(names)\n",
        "tokenized = t.texts_to_sequences(names)\n",
        "padded_names = sequence.pad_sequences(tokenized, maxlen=maxlen)\n",
        "\n",
        "def scale(n):\n",
        "    return int(n * 255)\n",
        "\n",
        "normalized_values = np.column_stack([data[\"red\"], data[\"green\"], data[\"blue\"]])\n",
        "normalized_values = normalized_values / 255.0\n",
        "\n",
        "model = Sequential()\n",
        "model.add(Bidirectional(SimpleRNN(64, activation='relu'), input_shape=(maxlen, 3)))  # Use RGB values directly\n",
        "model.add(Dense(128, activation='relu'))\n",
        "model.add(Dense(3, activation='sigmoid'))\n",
        "model.compile(optimizer='adam', loss='mse', metrics=['acc'])\n",
        "\n",
        "history = model.fit(np.repeat(padded_names[:, :, np.newaxis], 3, axis=-1), normalized_values, epochs=40, batch_size=32, validation_split=0.2)\n",
        "\n",
        "def plot_rgb(rgb):\n",
        "    data = [[rgb]]\n",
        "    plt.figure(figsize=(2, 2))\n",
        "    plt.imshow(data, interpolation='nearest')\n",
        "    plt.show()\n",
        "\n",
        "def predict(name):\n",
        "    name = name.lower()\n",
        "    tokenized = t.texts_to_sequences([name])\n",
        "    padded = sequence.pad_sequences(tokenized, maxlen=maxlen)\n",
        "    pred = model.predict(np.repeat(padded[:, :, np.newaxis], 3, axis=-1))[0]\n",
        "    r, g, b = scale(pred[0]), scale(pred[1]), scale(pred[2])\n",
        "    print(name + ',', 'R,G,B:', r, g, b)\n",
        "    plot_rgb(pred)\n"
      ]
    },
    {
      "cell_type": "code",
      "source": [
        "n = input()\n",
        "predict(n)"
      ],
      "metadata": {
        "colab": {
          "base_uri": "https://localhost:8080/",
          "height": 266
        },
        "id": "Ycu2e-12Xp3W",
        "outputId": "d8cc7dca-7937-4846-9e87-13a844f15533"
      },
      "execution_count": 26,
      "outputs": [
        {
          "output_type": "stream",
          "name": "stdout",
          "text": [
            "iron red\n",
            "1/1 [==============================] - 0s 26ms/step\n",
            "iron red, R,G,B: 154 80 78\n"
          ]
        },
        {
          "output_type": "display_data",
          "data": {
            "text/plain": [
              "<Figure size 200x200 with 1 Axes>"
            ],
            "image/png": "[encoded data removed]"
          },
          "metadata": {}
        }
      ]
    }
  ]
}