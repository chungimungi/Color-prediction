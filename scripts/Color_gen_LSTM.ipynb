{
  "cells": [
    {
      "cell_type": "code",
      "execution_count": null,
      "metadata": {
        "id": "rFF85jXQDFkr"
      },
      "outputs": [],
      "source": [
        "!pip install tensorflow keras numpy\n",
        "!pip install matplotlib\n",
        "!pip install seaborn"
      ]
    },
    {
      "cell_type": "code",
      "execution_count": null,
      "metadata": {
        "id": "g0hLiq-dNN8a",
        "colab": {
          "base_uri": "https://localhost:8080/"
        },
        "outputId": "4fb41c2f-b854-4576-a808-23b9a49e3092"
      },
      "outputs": [
        {
          "output_type": "stream",
          "name": "stdout",
          "text": [
            "Epoch 1/600\n",
            "140/140 [==============================] - 8s 20ms/step - loss: 0.1400 - acc: 0.4637 - val_loss: 0.0761 - val_acc: 0.5956\n",
            "Epoch 2/600\n",
            "140/140 [==============================] - 2s 16ms/step - loss: 0.1365 - acc: 0.5152 - val_loss: 0.0716 - val_acc: 0.6306\n",
            "Epoch 3/600\n",
            "140/140 [==============================] - 2s 16ms/step - loss: 0.1357 - acc: 0.5382 - val_loss: 0.0808 - val_acc: 0.6228\n",
            "Epoch 4/600\n",
            "140/140 [==============================] - 2s 14ms/step - loss: 0.1339 - acc: 0.5403 - val_loss: 0.0757 - val_acc: 0.6293\n",
            "Epoch 5/600\n",
            "140/140 [==============================] - 2s 14ms/step - loss: 0.1332 - acc: 0.5407 - val_loss: 0.0749 - val_acc: 0.5832\n",
            "Epoch 6/600\n",
            "140/140 [==============================] - 2s 15ms/step - loss: 0.1306 - acc: 0.5355 - val_loss: 0.0709 - val_acc: 0.6134\n",
            "Epoch 7/600\n",
            "140/140 [==============================] - 2s 15ms/step - loss: 0.1294 - acc: 0.5425 - val_loss: 0.0682 - val_acc: 0.6354\n",
            "Epoch 8/600\n",
            "140/140 [==============================] - 2s 16ms/step - loss: 0.1295 - acc: 0.5490 - val_loss: 0.0700 - val_acc: 0.6242\n",
            "Epoch 9/600\n",
            "140/140 [==============================] - 2s 15ms/step - loss: 0.1272 - acc: 0.5543 - val_loss: 0.0674 - val_acc: 0.6157\n",
            "Epoch 10/600\n",
            "140/140 [==============================] - 2s 15ms/step - loss: 0.1268 - acc: 0.5564 - val_loss: 0.0673 - val_acc: 0.6278\n",
            "Epoch 11/600\n",
            "140/140 [==============================] - 2s 15ms/step - loss: 0.1251 - acc: 0.5624 - val_loss: 0.0670 - val_acc: 0.5983\n",
            "Epoch 12/600\n",
            "140/140 [==============================] - 2s 15ms/step - loss: 0.1240 - acc: 0.5612 - val_loss: 0.0656 - val_acc: 0.5903\n",
            "Epoch 13/600\n",
            "140/140 [==============================] - 2s 15ms/step - loss: 0.1237 - acc: 0.5704 - val_loss: 0.0671 - val_acc: 0.6402\n",
            "Epoch 14/600\n",
            "140/140 [==============================] - 2s 16ms/step - loss: 0.1223 - acc: 0.5685 - val_loss: 0.0615 - val_acc: 0.6458\n",
            "Epoch 15/600\n",
            "140/140 [==============================] - 2s 16ms/step - loss: 0.1221 - acc: 0.5697 - val_loss: 0.0636 - val_acc: 0.6346\n",
            "Epoch 16/600\n",
            "140/140 [==============================] - 2s 16ms/step - loss: 0.1188 - acc: 0.5741 - val_loss: 0.0593 - val_acc: 0.5934\n",
            "Epoch 17/600\n",
            "140/140 [==============================] - 2s 15ms/step - loss: 0.1172 - acc: 0.5799 - val_loss: 0.0648 - val_acc: 0.6172\n",
            "Epoch 18/600\n",
            "140/140 [==============================] - 2s 15ms/step - loss: 0.1170 - acc: 0.5794 - val_loss: 0.0653 - val_acc: 0.6130\n",
            "Epoch 19/600\n",
            "140/140 [==============================] - 2s 15ms/step - loss: 0.1170 - acc: 0.5775 - val_loss: 0.0658 - val_acc: 0.6290\n",
            "Epoch 20/600\n",
            "140/140 [==============================] - 2s 16ms/step - loss: 0.1142 - acc: 0.5791 - val_loss: 0.0620 - val_acc: 0.6415\n",
            "Epoch 21/600\n",
            "140/140 [==============================] - 2s 17ms/step - loss: 0.1134 - acc: 0.5820 - val_loss: 0.0668 - val_acc: 0.6212\n",
            "Epoch 22/600\n",
            "140/140 [==============================] - 2s 16ms/step - loss: 0.1120 - acc: 0.5845 - val_loss: 0.0624 - val_acc: 0.5925\n",
            "Epoch 23/600\n",
            "140/140 [==============================] - 2s 15ms/step - loss: 0.1117 - acc: 0.5851 - val_loss: 0.0631 - val_acc: 0.6116\n",
            "Epoch 24/600\n",
            "140/140 [==============================] - 2s 16ms/step - loss: 0.1102 - acc: 0.5851 - val_loss: 0.0631 - val_acc: 0.6485\n",
            "Epoch 25/600\n",
            "140/140 [==============================] - 2s 16ms/step - loss: 0.1081 - acc: 0.5899 - val_loss: 0.0636 - val_acc: 0.6432\n",
            "Epoch 26/600\n",
            "140/140 [==============================] - 2s 17ms/step - loss: 0.1081 - acc: 0.5860 - val_loss: 0.0665 - val_acc: 0.6250\n",
            "Epoch 27/600\n",
            "140/140 [==============================] - 2s 16ms/step - loss: 0.1070 - acc: 0.5910 - val_loss: 0.0624 - val_acc: 0.5840\n",
            "Epoch 28/600\n",
            "140/140 [==============================] - 2s 15ms/step - loss: 0.1061 - acc: 0.5928 - val_loss: 0.0627 - val_acc: 0.6135\n",
            "Epoch 29/600\n",
            "140/140 [==============================] - 2s 15ms/step - loss: 0.1041 - acc: 0.5939 - val_loss: 0.0652 - val_acc: 0.6209\n",
            "Epoch 30/600\n",
            "140/140 [==============================] - 2s 15ms/step - loss: 0.1033 - acc: 0.5964 - val_loss: 0.0628 - val_acc: 0.6462\n",
            "Epoch 31/600\n",
            "140/140 [==============================] - 2s 15ms/step - loss: 0.1030 - acc: 0.5961 - val_loss: 0.0612 - val_acc: 0.6360\n",
            "Epoch 32/600\n",
            "140/140 [==============================] - 2s 17ms/step - loss: 0.1026 - acc: 0.6001 - val_loss: 0.0602 - val_acc: 0.6182\n",
            "Epoch 33/600\n",
            "140/140 [==============================] - 2s 16ms/step - loss: 0.1007 - acc: 0.6031 - val_loss: 0.0608 - val_acc: 0.6286\n",
            "Epoch 34/600\n",
            "140/140 [==============================] - 2s 15ms/step - loss: 0.1017 - acc: 0.5988 - val_loss: 0.0642 - val_acc: 0.6325\n",
            "Epoch 35/600\n",
            "140/140 [==============================] - 2s 16ms/step - loss: 0.1000 - acc: 0.6024 - val_loss: 0.0628 - val_acc: 0.6351\n",
            "Epoch 36/600\n",
            "140/140 [==============================] - 2s 15ms/step - loss: 0.1003 - acc: 0.6047 - val_loss: 0.0633 - val_acc: 0.6461\n",
            "Epoch 37/600\n",
            "140/140 [==============================] - 2s 15ms/step - loss: 0.1001 - acc: 0.6054 - val_loss: 0.0606 - val_acc: 0.6309\n",
            "Epoch 38/600\n",
            "140/140 [==============================] - 2s 17ms/step - loss: 0.0992 - acc: 0.6063 - val_loss: 0.0623 - val_acc: 0.5799\n",
            "Epoch 39/600\n",
            "140/140 [==============================] - 2s 15ms/step - loss: 0.0985 - acc: 0.6068 - val_loss: 0.0661 - val_acc: 0.6393\n",
            "Epoch 40/600\n",
            "140/140 [==============================] - 2s 15ms/step - loss: 0.0974 - acc: 0.6115 - val_loss: 0.0646 - val_acc: 0.6349\n",
            "Epoch 41/600\n",
            "140/140 [==============================] - 2s 15ms/step - loss: 0.0961 - acc: 0.6131 - val_loss: 0.0621 - val_acc: 0.6293\n",
            "Epoch 42/600\n",
            "140/140 [==============================] - 2s 16ms/step - loss: 0.0966 - acc: 0.6125 - val_loss: 0.0605 - val_acc: 0.6342\n",
            "Epoch 43/600\n",
            "140/140 [==============================] - 2s 16ms/step - loss: 0.0973 - acc: 0.6146 - val_loss: 0.0663 - val_acc: 0.6418\n",
            "Epoch 44/600\n",
            "140/140 [==============================] - 2s 17ms/step - loss: 0.0960 - acc: 0.6208 - val_loss: 0.0642 - val_acc: 0.6202\n",
            "Epoch 45/600\n",
            "140/140 [==============================] - 2s 16ms/step - loss: 0.0951 - acc: 0.6191 - val_loss: 0.0639 - val_acc: 0.6176\n",
            "Epoch 46/600\n",
            "140/140 [==============================] - 2s 16ms/step - loss: 0.0957 - acc: 0.6217 - val_loss: 0.0657 - val_acc: 0.6338\n",
            "Epoch 47/600\n",
            "140/140 [==============================] - 2s 15ms/step - loss: 0.0955 - acc: 0.6186 - val_loss: 0.0652 - val_acc: 0.6223\n",
            "Epoch 48/600\n",
            "140/140 [==============================] - 2s 15ms/step - loss: 0.0946 - acc: 0.6261 - val_loss: 0.0640 - val_acc: 0.6299\n",
            "Epoch 49/600\n",
            "140/140 [==============================] - 2s 16ms/step - loss: 0.0938 - acc: 0.6270 - val_loss: 0.0655 - val_acc: 0.6294\n",
            "Epoch 50/600\n",
            "  9/140 [>.............................] - ETA: 1s - loss: 0.0987 - acc: 0.6063"
          ]
        }
      ],
      "source": [
        "import tensorflow as tf\n",
        "from tensorflow.keras.models import Sequential\n",
        "from tensorflow.keras.layers import Dense, Dropout, Bidirectional, SimpleRNN, GRU, LSTM\n",
        "from tensorflow.keras.preprocessing.text import Tokenizer\n",
        "from tensorflow.keras.preprocessing import sequence\n",
        "import numpy as np\n",
        "import pandas as pd\n",
        "from keras.utils import to_categorical\n",
        "import matplotlib.pyplot as plt\n",
        "\n",
        "np.random.seed(10)\n",
        "data = pd.read_csv('colors.csv')\n",
        "names = data[\"name\"]\n",
        "\n",
        "maxlen = 25\n",
        "t = Tokenizer(char_level=True)\n",
        "t.fit_on_texts(names)\n",
        "tokenized = t.texts_to_sequences(names)\n",
        "padded_names = sequence.pad_sequences(tokenized, maxlen=maxlen)\n",
        "\n",
        "def scale(n):\n",
        "    return int(n * 255)\n",
        "\n",
        "normalized_values = np.column_stack([data[\"red\"], data[\"green\"], data[\"blue\"]])\n",
        "normalized_values = normalized_values / 255.0\n",
        "\n",
        "model = Sequential()\n",
        "model.add(Bidirectional(LSTM(256, activation='tanh'), input_shape=(maxlen, 3)))\n",
        "model.add(Dense(128, activation='tanh'))\n",
        "model.add(Dense(128, activation='tanh'))\n",
        "model.add(Dense(64, activation='tanh'))\n",
        "model.add(Dense(64, activation='tanh'))\n",
        "model.add(Dense(3, activation='sigmoid'))\n",
        "model.add(Dropout(0.2))\n",
        "model.compile(optimizer='adam', loss='mse', metrics=['acc'])\n",
        "\n",
        "history = model.fit(np.repeat(padded_names[:, :, np.newaxis], 3, axis=-1), normalized_values, epochs=600, batch_size=256, validation_split=0.20)\n",
        "\n",
        "def plot_rgb(rgb):\n",
        "    data = [[rgb]]\n",
        "    plt.figure(figsize=(2, 2))\n",
        "    plt.imshow(data, interpolation='nearest')\n",
        "    plt.show()\n",
        "\n",
        "def predict(name):\n",
        "    name = name.lower()\n",
        "    tokenized = t.texts_to_sequences([name])\n",
        "    padded = sequence.pad_sequences(tokenized, maxlen=maxlen)\n",
        "    pred = model.predict(np.repeat(padded[:, :, np.newaxis], 3, axis=-1))[0]\n",
        "    r, g, b = scale(pred[0]), scale(pred[1]), scale(pred[2])\n",
        "    print(name + ',', 'R,G,B:', r, g, b)\n",
        "    plot_rgb(pred)"
      ]
    },
    {
      "cell_type": "code",
      "source": [
        "model.summary()"
      ],
      "metadata": {
        "id": "6E_mJP0UAQLE"
      },
      "execution_count": null,
      "outputs": []
    },
    {
      "cell_type": "code",
      "source": [
        "train_acc = history.history['acc']\n",
        "val_acc = history.history['val_acc']\n",
        "\n",
        "plt.plot(train_acc, label='Training Accuracy')\n",
        "plt.plot(val_acc, label='Validation Accuracy')\n",
        "plt.title('Training and Validation Accuracy')\n",
        "plt.xlabel('Epochs')\n",
        "plt.ylabel('Accuracy')\n",
        "plt.legend()\n",
        "plt.show()"
      ],
      "metadata": {
        "id": "Ycu2e-12Xp3W"
      },
      "execution_count": null,
      "outputs": []
    },
    {
      "cell_type": "code",
      "execution_count": null,
      "metadata": {
        "id": "SZ_tC2SXPRhR"
      },
      "outputs": [],
      "source": [
        "n = input()\n",
        "predict(n)"
      ]
    }
  ],
  "metadata": {
    "accelerator": "GPU",
    "colab": {
      "provenance": [],
      "gpuType": "T4"
    },
    "kernelspec": {
      "display_name": "Python 3",
      "name": "python3"
    },
    "language_info": {
      "name": "python"
    }
  },
  "nbformat": 4,
  "nbformat_minor": 0
}